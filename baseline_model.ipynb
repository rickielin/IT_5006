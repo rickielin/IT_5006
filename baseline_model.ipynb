{
 "cells": [
  {
   "cell_type": "code",
   "execution_count": 14,
   "id": "9fce0c0b",
   "metadata": {},
   "outputs": [
    {
     "name": "stdout",
     "output_type": "stream",
     "text": [
      "Collecting keras\n",
      "  Downloading keras-2.11.0-py2.py3-none-any.whl (1.7 MB)\n",
      "\u001b[K     |████████████████████████████████| 1.7 MB 6.2 MB/s eta 0:00:01\n",
      "\u001b[?25hInstalling collected packages: keras\n",
      "Successfully installed keras-2.11.0\n",
      "Note: you may need to restart the kernel to use updated packages.\n"
     ]
    }
   ],
   "source": [
    "%pip install keras"
   ]
  },
  {
   "cell_type": "code",
   "execution_count": 16,
   "id": "e908f6de",
   "metadata": {},
   "outputs": [
    {
     "name": "stdout",
     "output_type": "stream",
     "text": [
      "Collecting tensorflow\n",
      "  Downloading tensorflow-2.11.0-cp39-cp39-macosx_10_14_x86_64.whl (244.3 MB)\n",
      "\u001b[K     |████████████████████████████████| 244.3 MB 8.9 kB/s eta 0:00:012    |█████████████▌                  | 103.0 MB 621 kB/s eta 0:03:48     |████████████████████████▍       | 186.6 MB 579 kB/s eta 0:01:40\n",
      "\u001b[?25hCollecting protobuf<3.20,>=3.9.2\n",
      "  Downloading protobuf-3.19.6-cp39-cp39-macosx_10_9_x86_64.whl (980 kB)\n",
      "\u001b[K     |████████████████████████████████| 980 kB 6.6 MB/s eta 0:00:01\n",
      "\u001b[?25hRequirement already satisfied: wrapt>=1.11.0 in /Applications/anaconda3/lib/python3.9/site-packages (from tensorflow) (1.12.1)\n",
      "Requirement already satisfied: six>=1.12.0 in /Applications/anaconda3/lib/python3.9/site-packages (from tensorflow) (1.16.0)\n",
      "Collecting grpcio<2.0,>=1.24.3\n",
      "  Downloading grpcio-1.51.1-cp39-cp39-macosx_10_10_x86_64.whl (4.6 MB)\n",
      "\u001b[K     |████████████████████████████████| 4.6 MB 450 kB/s eta 0:00:011��███████▉                      | 1.4 MB 10.4 MB/s eta 0:00:01\n",
      "\u001b[?25hCollecting tensorboard<2.12,>=2.11\n",
      "  Downloading tensorboard-2.11.2-py3-none-any.whl (6.0 MB)\n",
      "\u001b[K     |████████████████████████████████| 6.0 MB 482 kB/s eta 0:00:01\n",
      "\u001b[?25hCollecting absl-py>=1.0.0\n",
      "  Downloading absl_py-1.4.0-py3-none-any.whl (126 kB)\n",
      "\u001b[K     |████████████████████████████████| 126 kB 5.8 MB/s eta 0:00:01\n",
      "\u001b[?25hCollecting tensorflow-io-gcs-filesystem>=0.23.1\n",
      "  Downloading tensorflow_io_gcs_filesystem-0.30.0-cp39-cp39-macosx_10_14_x86_64.whl (1.6 MB)\n",
      "\u001b[K     |████████████████████████████████| 1.6 MB 5.2 MB/s eta 0:00:01\n",
      "\u001b[?25hCollecting astunparse>=1.6.0\n",
      "  Downloading astunparse-1.6.3-py2.py3-none-any.whl (12 kB)\n",
      "Requirement already satisfied: h5py>=2.9.0 in /Applications/anaconda3/lib/python3.9/site-packages (from tensorflow) (3.2.1)\n",
      "Requirement already satisfied: packaging in /Applications/anaconda3/lib/python3.9/site-packages (from tensorflow) (21.0)\n",
      "Collecting libclang>=13.0.0\n",
      "  Downloading libclang-15.0.6.1-py2.py3-none-macosx_10_9_x86_64.whl (25.0 MB)\n",
      "\u001b[K     |████████████████████████████████| 25.0 MB 5.6 MB/s eta 0:00:01\n",
      "\u001b[?25hCollecting gast<=0.4.0,>=0.2.1\n",
      "  Downloading gast-0.4.0-py3-none-any.whl (9.8 kB)\n",
      "Collecting flatbuffers>=2.0\n",
      "  Downloading flatbuffers-23.1.21-py2.py3-none-any.whl (26 kB)\n",
      "Requirement already satisfied: typing-extensions>=3.6.6 in /Applications/anaconda3/lib/python3.9/site-packages (from tensorflow) (3.10.0.2)\n",
      "Requirement already satisfied: setuptools in /Applications/anaconda3/lib/python3.9/site-packages (from tensorflow) (58.0.4)\n",
      "Requirement already satisfied: keras<2.12,>=2.11.0 in /Applications/anaconda3/lib/python3.9/site-packages (from tensorflow) (2.11.0)\n",
      "Collecting termcolor>=1.1.0\n",
      "  Downloading termcolor-2.2.0-py3-none-any.whl (6.6 kB)\n",
      "Requirement already satisfied: numpy>=1.20 in /Applications/anaconda3/lib/python3.9/site-packages (from tensorflow) (1.20.3)\n",
      "Collecting tensorflow-estimator<2.12,>=2.11.0\n",
      "  Downloading tensorflow_estimator-2.11.0-py2.py3-none-any.whl (439 kB)\n",
      "\u001b[K     |████████████████████████████████| 439 kB 6.1 MB/s eta 0:00:01\n",
      "\u001b[?25hCollecting opt-einsum>=2.3.2\n",
      "  Downloading opt_einsum-3.3.0-py3-none-any.whl (65 kB)\n",
      "\u001b[K     |████████████████████████████████| 65 kB 7.7 MB/s eta 0:00:011\n",
      "\u001b[?25hCollecting google-pasta>=0.1.1\n",
      "  Downloading google_pasta-0.2.0-py3-none-any.whl (57 kB)\n",
      "\u001b[K     |████████████████████████████████| 57 kB 6.0 MB/s eta 0:00:011\n",
      "\u001b[?25hRequirement already satisfied: wheel<1.0,>=0.23.0 in /Applications/anaconda3/lib/python3.9/site-packages (from astunparse>=1.6.0->tensorflow) (0.37.0)\n",
      "Collecting google-auth<3,>=1.6.3\n",
      "  Downloading google_auth-2.16.0-py2.py3-none-any.whl (177 kB)\n",
      "\u001b[K     |████████████████████████████████| 177 kB 5.5 MB/s eta 0:00:01\n",
      "\u001b[?25hRequirement already satisfied: requests<3,>=2.21.0 in /Applications/anaconda3/lib/python3.9/site-packages (from tensorboard<2.12,>=2.11->tensorflow) (2.26.0)\n",
      "Collecting google-auth-oauthlib<0.5,>=0.4.1\n",
      "  Downloading google_auth_oauthlib-0.4.6-py2.py3-none-any.whl (18 kB)\n",
      "Collecting markdown>=2.6.8\n",
      "  Downloading Markdown-3.4.1-py3-none-any.whl (93 kB)\n",
      "\u001b[K     |████████████████████████████████| 93 kB 4.3 MB/s eta 0:00:011\n",
      "\u001b[?25hCollecting tensorboard-plugin-wit>=1.6.0\n",
      "  Downloading tensorboard_plugin_wit-1.8.1-py3-none-any.whl (781 kB)\n",
      "\u001b[K     |████████████████████████████████| 781 kB 6.3 MB/s eta 0:00:01\n",
      "\u001b[?25hRequirement already satisfied: werkzeug>=1.0.1 in /Applications/anaconda3/lib/python3.9/site-packages (from tensorboard<2.12,>=2.11->tensorflow) (2.0.2)\n",
      "Collecting tensorboard-data-server<0.7.0,>=0.6.0\n",
      "  Downloading tensorboard_data_server-0.6.1-py3-none-macosx_10_9_x86_64.whl (3.5 MB)\n",
      "\u001b[K     |████████████████████████████████| 3.5 MB 2.4 MB/s eta 0:00:01\n",
      "\u001b[?25hCollecting pyasn1-modules>=0.2.1\n",
      "  Downloading pyasn1_modules-0.2.8-py2.py3-none-any.whl (155 kB)\n",
      "\u001b[K     |████████████████████████████████| 155 kB 5.1 MB/s eta 0:00:01\n",
      "\u001b[?25hCollecting cachetools<6.0,>=2.0.0\n",
      "  Downloading cachetools-5.3.0-py3-none-any.whl (9.3 kB)\n",
      "Collecting rsa<5,>=3.1.4\n",
      "  Downloading rsa-4.9-py3-none-any.whl (34 kB)\n",
      "Collecting requests-oauthlib>=0.7.0\n",
      "  Downloading requests_oauthlib-1.3.1-py2.py3-none-any.whl (23 kB)\n",
      "Requirement already satisfied: importlib-metadata>=4.4 in /Applications/anaconda3/lib/python3.9/site-packages (from markdown>=2.6.8->tensorboard<2.12,>=2.11->tensorflow) (4.8.1)\n",
      "Requirement already satisfied: zipp>=0.5 in /Applications/anaconda3/lib/python3.9/site-packages (from importlib-metadata>=4.4->markdown>=2.6.8->tensorboard<2.12,>=2.11->tensorflow) (3.6.0)\n",
      "Collecting pyasn1<0.5.0,>=0.4.6\n",
      "  Downloading pyasn1-0.4.8-py2.py3-none-any.whl (77 kB)\n",
      "\u001b[K     |████████████████████████████████| 77 kB 2.4 MB/s eta 0:00:011\n",
      "\u001b[?25hRequirement already satisfied: idna<4,>=2.5 in /Applications/anaconda3/lib/python3.9/site-packages (from requests<3,>=2.21.0->tensorboard<2.12,>=2.11->tensorflow) (3.2)\n",
      "Requirement already satisfied: charset-normalizer~=2.0.0 in /Applications/anaconda3/lib/python3.9/site-packages (from requests<3,>=2.21.0->tensorboard<2.12,>=2.11->tensorflow) (2.0.4)\n",
      "Requirement already satisfied: urllib3<1.27,>=1.21.1 in /Applications/anaconda3/lib/python3.9/site-packages (from requests<3,>=2.21.0->tensorboard<2.12,>=2.11->tensorflow) (1.26.7)\n",
      "Requirement already satisfied: certifi>=2017.4.17 in /Applications/anaconda3/lib/python3.9/site-packages (from requests<3,>=2.21.0->tensorboard<2.12,>=2.11->tensorflow) (2021.10.8)\n",
      "Collecting oauthlib>=3.0.0\n",
      "  Downloading oauthlib-3.2.2-py3-none-any.whl (151 kB)\n",
      "\u001b[K     |████████████████████████████████| 151 kB 2.7 MB/s eta 0:00:01\n",
      "\u001b[?25hRequirement already satisfied: pyparsing>=2.0.2 in /Applications/anaconda3/lib/python3.9/site-packages (from packaging->tensorflow) (3.0.4)\n",
      "Installing collected packages: pyasn1, rsa, pyasn1-modules, oauthlib, cachetools, requests-oauthlib, google-auth, tensorboard-plugin-wit, tensorboard-data-server, protobuf, markdown, grpcio, google-auth-oauthlib, absl-py, termcolor, tensorflow-io-gcs-filesystem, tensorflow-estimator, tensorboard, opt-einsum, libclang, google-pasta, gast, flatbuffers, astunparse, tensorflow\n",
      "Successfully installed absl-py-1.4.0 astunparse-1.6.3 cachetools-5.3.0 flatbuffers-23.1.21 gast-0.4.0 google-auth-2.16.0 google-auth-oauthlib-0.4.6 google-pasta-0.2.0 grpcio-1.51.1 libclang-15.0.6.1 markdown-3.4.1 oauthlib-3.2.2 opt-einsum-3.3.0 protobuf-3.19.6 pyasn1-0.4.8 pyasn1-modules-0.2.8 requests-oauthlib-1.3.1 rsa-4.9 tensorboard-2.11.2 tensorboard-data-server-0.6.1 tensorboard-plugin-wit-1.8.1 tensorflow-2.11.0 tensorflow-estimator-2.11.0 tensorflow-io-gcs-filesystem-0.30.0 termcolor-2.2.0\n",
      "Note: you may need to restart the kernel to use updated packages.\n"
     ]
    }
   ],
   "source": [
    "%pip install tensorflow  # prepare for DNN"
   ]
  },
  {
   "cell_type": "code",
   "execution_count": 1,
   "id": "b8f0b9db",
   "metadata": {},
   "outputs": [
    {
     "ename": "",
     "evalue": "",
     "output_type": "error",
     "traceback": [
      "The Kernel crashed while executing code in the the current cell or a previous cell. Please review the code in the cell(s) to identify a possible cause of the failure. Click <a href='https://aka.ms/vscodeJupyterKernelCrash'>here</a> for more info. View Jupyter <a href='command:jupyter.viewOutput'>log</a> for further details."
     ]
    },
    {
     "ename": "",
     "evalue": "",
     "output_type": "error",
     "traceback": [
      "\u001b[1;31mCanceled future for execute_request message before replies were done"
     ]
    }
   ],
   "source": [
    "import tensorflow as tf\n",
    "import keras\n",
    "\n",
    "keras.__version__"
   ]
  },
  {
   "cell_type": "code",
   "execution_count": null,
   "id": "d9dfe724",
   "metadata": {},
   "outputs": [],
   "source": [
    "# This Python 3 environment comes with many helpful analytics libraries installed\n",
    "# It is defined by the kaggle/python Docker image: https://github.com/kaggle/docker-python\n",
    "# For example, here's several helpful packages to load\n",
    "\n",
    "import numpy as np # linear algebra\n",
    "import pandas as pd # data processing, CSV file I/O (e.g. pd.read_csv)\n",
    "\n",
    "# Input data files are available in the read-only \"../input/\" directory\n",
    "# For example, running this (by clicking run or pressing Shift+Enter) will list all files under the input directory\n",
    "\n",
    "import os\n",
    "for dirname, _, filenames in os.walk('/kaggle/input'):\n",
    "    for filename in filenames:\n",
    "        print(os.path.join(dirname, filename))\n",
    "\n",
    "# You can write up to 20GB to the current directory (/kaggle/working/) that gets preserved as output when you create a version using \"Save & Run All\" \n",
    "# You can also write temporary files to /kaggle/temp/, but they won't be saved outside of the current session\n"
   ]
  },
  {
   "cell_type": "markdown",
   "id": "74f5fee6",
   "metadata": {
    "papermill": {
     "duration": 0.003337,
     "end_time": "2023-01-20T07:27:16.210156",
     "exception": false,
     "start_time": "2023-01-20T07:27:16.206819",
     "status": "completed"
    },
    "tags": []
   },
   "source": [
    "### Importing the data"
   ]
  },
  {
   "cell_type": "code",
   "execution_count": 7,
   "id": "1fc05791",
   "metadata": {
    "execution": {
     "iopub.execute_input": "2023-01-20T07:27:16.219102Z",
     "iopub.status.busy": "2023-01-20T07:27:16.218373Z",
     "iopub.status.idle": "2023-01-20T07:27:16.280478Z",
     "shell.execute_reply": "2023-01-20T07:27:16.279563Z"
    },
    "papermill": {
     "duration": 0.069361,
     "end_time": "2023-01-20T07:27:16.282879",
     "exception": false,
     "start_time": "2023-01-20T07:27:16.213518",
     "status": "completed"
    },
    "tags": []
   },
   "outputs": [
    {
     "data": {
      "text/html": [
       "<div>\n",
       "<style scoped>\n",
       "    .dataframe tbody tr th:only-of-type {\n",
       "        vertical-align: middle;\n",
       "    }\n",
       "\n",
       "    .dataframe tbody tr th {\n",
       "        vertical-align: top;\n",
       "    }\n",
       "\n",
       "    .dataframe thead th {\n",
       "        text-align: right;\n",
       "    }\n",
       "</style>\n",
       "<table border=\"1\" class=\"dataframe\">\n",
       "  <thead>\n",
       "    <tr style=\"text-align: right;\">\n",
       "      <th></th>\n",
       "      <th>Unnamed: 0</th>\n",
       "      <th>Completion_rate</th>\n",
       "      <th>Tuition_in_state</th>\n",
       "      <th>Tuition_out_state</th>\n",
       "      <th>Faculty_salary</th>\n",
       "      <th>Pell_grant_rate</th>\n",
       "      <th>SAT_average</th>\n",
       "      <th>ACT_50thPercentile</th>\n",
       "      <th>pct_White</th>\n",
       "      <th>pct_Black</th>\n",
       "      <th>pct_Hispanic</th>\n",
       "      <th>pct_Asian</th>\n",
       "      <th>Parents_middlesch</th>\n",
       "      <th>Parents_highsch</th>\n",
       "      <th>Parents_college</th>\n",
       "    </tr>\n",
       "  </thead>\n",
       "  <tbody>\n",
       "    <tr>\n",
       "      <th>0</th>\n",
       "      <td>0</td>\n",
       "      <td>0.6552</td>\n",
       "      <td>33560</td>\n",
       "      <td>33560</td>\n",
       "      <td>4285</td>\n",
       "      <td>0.2531</td>\n",
       "      <td>1029</td>\n",
       "      <td>21</td>\n",
       "      <td>0.3771</td>\n",
       "      <td>0.0612</td>\n",
       "      <td>0.0590</td>\n",
       "      <td>0.1345</td>\n",
       "      <td>0.011561</td>\n",
       "      <td>0.226397</td>\n",
       "      <td>0.762042</td>\n",
       "    </tr>\n",
       "    <tr>\n",
       "      <th>1</th>\n",
       "      <td>1</td>\n",
       "      <td>0.5246</td>\n",
       "      <td>7383</td>\n",
       "      <td>18543</td>\n",
       "      <td>9148</td>\n",
       "      <td>0.4752</td>\n",
       "      <td>963</td>\n",
       "      <td>21</td>\n",
       "      <td>0.2866</td>\n",
       "      <td>0.0331</td>\n",
       "      <td>0.4212</td>\n",
       "      <td>0.1011</td>\n",
       "      <td>0.107411</td>\n",
       "      <td>0.375165</td>\n",
       "      <td>0.517424</td>\n",
       "    </tr>\n",
       "    <tr>\n",
       "      <th>2</th>\n",
       "      <td>2</td>\n",
       "      <td>0.4030</td>\n",
       "      <td>23144</td>\n",
       "      <td>23144</td>\n",
       "      <td>7232</td>\n",
       "      <td>0.4668</td>\n",
       "      <td>984</td>\n",
       "      <td>21</td>\n",
       "      <td>0.3085</td>\n",
       "      <td>0.1426</td>\n",
       "      <td>0.2309</td>\n",
       "      <td>0.0149</td>\n",
       "      <td>0.091241</td>\n",
       "      <td>0.361314</td>\n",
       "      <td>0.547445</td>\n",
       "    </tr>\n",
       "    <tr>\n",
       "      <th>3</th>\n",
       "      <td>3</td>\n",
       "      <td>0.5472</td>\n",
       "      <td>6610</td>\n",
       "      <td>17770</td>\n",
       "      <td>9284</td>\n",
       "      <td>0.6369</td>\n",
       "      <td>877</td>\n",
       "      <td>18</td>\n",
       "      <td>0.1272</td>\n",
       "      <td>0.0572</td>\n",
       "      <td>0.6282</td>\n",
       "      <td>0.0557</td>\n",
       "      <td>0.163236</td>\n",
       "      <td>0.433621</td>\n",
       "      <td>0.403142</td>\n",
       "    </tr>\n",
       "    <tr>\n",
       "      <th>4</th>\n",
       "      <td>4</td>\n",
       "      <td>0.8166</td>\n",
       "      <td>47004</td>\n",
       "      <td>47004</td>\n",
       "      <td>11984</td>\n",
       "      <td>0.1337</td>\n",
       "      <td>1323</td>\n",
       "      <td>30</td>\n",
       "      <td>0.4251</td>\n",
       "      <td>0.0786</td>\n",
       "      <td>0.2268</td>\n",
       "      <td>0.0549</td>\n",
       "      <td>0.014868</td>\n",
       "      <td>0.186091</td>\n",
       "      <td>0.799041</td>\n",
       "    </tr>\n",
       "    <tr>\n",
       "      <th>...</th>\n",
       "      <td>...</td>\n",
       "      <td>...</td>\n",
       "      <td>...</td>\n",
       "      <td>...</td>\n",
       "      <td>...</td>\n",
       "      <td>...</td>\n",
       "      <td>...</td>\n",
       "      <td>...</td>\n",
       "      <td>...</td>\n",
       "      <td>...</td>\n",
       "      <td>...</td>\n",
       "      <td>...</td>\n",
       "      <td>...</td>\n",
       "      <td>...</td>\n",
       "      <td>...</td>\n",
       "    </tr>\n",
       "    <tr>\n",
       "      <th>2359</th>\n",
       "      <td>2359</td>\n",
       "      <td>0.5311</td>\n",
       "      <td>24090</td>\n",
       "      <td>24090</td>\n",
       "      <td>6705</td>\n",
       "      <td>0.3402</td>\n",
       "      <td>949</td>\n",
       "      <td>20</td>\n",
       "      <td>0.6830</td>\n",
       "      <td>0.0544</td>\n",
       "      <td>0.0385</td>\n",
       "      <td>0.0225</td>\n",
       "      <td>0.019266</td>\n",
       "      <td>0.439450</td>\n",
       "      <td>0.541284</td>\n",
       "    </tr>\n",
       "    <tr>\n",
       "      <th>2360</th>\n",
       "      <td>2360</td>\n",
       "      <td>0.5371</td>\n",
       "      <td>36660</td>\n",
       "      <td>36660</td>\n",
       "      <td>6340</td>\n",
       "      <td>0.4075</td>\n",
       "      <td>1033</td>\n",
       "      <td>23</td>\n",
       "      <td>0.6215</td>\n",
       "      <td>0.1582</td>\n",
       "      <td>0.0883</td>\n",
       "      <td>0.0257</td>\n",
       "      <td>0.028593</td>\n",
       "      <td>0.404816</td>\n",
       "      <td>0.566591</td>\n",
       "    </tr>\n",
       "    <tr>\n",
       "      <th>2361</th>\n",
       "      <td>2361</td>\n",
       "      <td>0.3677</td>\n",
       "      <td>30331</td>\n",
       "      <td>30331</td>\n",
       "      <td>6689</td>\n",
       "      <td>0.5791</td>\n",
       "      <td>1009</td>\n",
       "      <td>22</td>\n",
       "      <td>0.5842</td>\n",
       "      <td>0.2277</td>\n",
       "      <td>0.0569</td>\n",
       "      <td>0.0221</td>\n",
       "      <td>0.029851</td>\n",
       "      <td>0.370421</td>\n",
       "      <td>0.599729</td>\n",
       "    </tr>\n",
       "    <tr>\n",
       "      <th>2362</th>\n",
       "      <td>2362</td>\n",
       "      <td>0.5541</td>\n",
       "      <td>5055</td>\n",
       "      <td>16215</td>\n",
       "      <td>9312</td>\n",
       "      <td>0.2151</td>\n",
       "      <td>1102</td>\n",
       "      <td>24</td>\n",
       "      <td>0.7347</td>\n",
       "      <td>0.0113</td>\n",
       "      <td>0.0718</td>\n",
       "      <td>0.0117</td>\n",
       "      <td>0.017512</td>\n",
       "      <td>0.259759</td>\n",
       "      <td>0.722729</td>\n",
       "    </tr>\n",
       "    <tr>\n",
       "      <th>2363</th>\n",
       "      <td>2363</td>\n",
       "      <td>0.5871</td>\n",
       "      <td>33358</td>\n",
       "      <td>33358</td>\n",
       "      <td>8178</td>\n",
       "      <td>0.2640</td>\n",
       "      <td>1053</td>\n",
       "      <td>23</td>\n",
       "      <td>0.5974</td>\n",
       "      <td>0.1482</td>\n",
       "      <td>0.0933</td>\n",
       "      <td>0.0304</td>\n",
       "      <td>0.011107</td>\n",
       "      <td>0.249280</td>\n",
       "      <td>0.739613</td>\n",
       "    </tr>\n",
       "  </tbody>\n",
       "</table>\n",
       "<p>2364 rows × 15 columns</p>\n",
       "</div>"
      ],
      "text/plain": [
       "      Unnamed: 0  Completion_rate  Tuition_in_state  Tuition_out_state  \\\n",
       "0              0           0.6552             33560              33560   \n",
       "1              1           0.5246              7383              18543   \n",
       "2              2           0.4030             23144              23144   \n",
       "3              3           0.5472              6610              17770   \n",
       "4              4           0.8166             47004              47004   \n",
       "...          ...              ...               ...                ...   \n",
       "2359        2359           0.5311             24090              24090   \n",
       "2360        2360           0.5371             36660              36660   \n",
       "2361        2361           0.3677             30331              30331   \n",
       "2362        2362           0.5541              5055              16215   \n",
       "2363        2363           0.5871             33358              33358   \n",
       "\n",
       "      Faculty_salary  Pell_grant_rate  SAT_average  ACT_50thPercentile  \\\n",
       "0               4285           0.2531         1029                  21   \n",
       "1               9148           0.4752          963                  21   \n",
       "2               7232           0.4668          984                  21   \n",
       "3               9284           0.6369          877                  18   \n",
       "4              11984           0.1337         1323                  30   \n",
       "...              ...              ...          ...                 ...   \n",
       "2359            6705           0.3402          949                  20   \n",
       "2360            6340           0.4075         1033                  23   \n",
       "2361            6689           0.5791         1009                  22   \n",
       "2362            9312           0.2151         1102                  24   \n",
       "2363            8178           0.2640         1053                  23   \n",
       "\n",
       "      pct_White  pct_Black  pct_Hispanic  pct_Asian  Parents_middlesch  \\\n",
       "0        0.3771     0.0612        0.0590     0.1345           0.011561   \n",
       "1        0.2866     0.0331        0.4212     0.1011           0.107411   \n",
       "2        0.3085     0.1426        0.2309     0.0149           0.091241   \n",
       "3        0.1272     0.0572        0.6282     0.0557           0.163236   \n",
       "4        0.4251     0.0786        0.2268     0.0549           0.014868   \n",
       "...         ...        ...           ...        ...                ...   \n",
       "2359     0.6830     0.0544        0.0385     0.0225           0.019266   \n",
       "2360     0.6215     0.1582        0.0883     0.0257           0.028593   \n",
       "2361     0.5842     0.2277        0.0569     0.0221           0.029851   \n",
       "2362     0.7347     0.0113        0.0718     0.0117           0.017512   \n",
       "2363     0.5974     0.1482        0.0933     0.0304           0.011107   \n",
       "\n",
       "      Parents_highsch  Parents_college  \n",
       "0            0.226397         0.762042  \n",
       "1            0.375165         0.517424  \n",
       "2            0.361314         0.547445  \n",
       "3            0.433621         0.403142  \n",
       "4            0.186091         0.799041  \n",
       "...               ...              ...  \n",
       "2359         0.439450         0.541284  \n",
       "2360         0.404816         0.566591  \n",
       "2361         0.370421         0.599729  \n",
       "2362         0.259759         0.722729  \n",
       "2363         0.249280         0.739613  \n",
       "\n",
       "[2364 rows x 15 columns]"
      ]
     },
     "execution_count": 7,
     "metadata": {},
     "output_type": "execute_result"
    }
   ],
   "source": [
    "data = pd.read_csv(\"train.csv\")\n",
    "data"
   ]
  },
  {
   "cell_type": "code",
   "execution_count": 8,
   "id": "fb296afb",
   "metadata": {
    "execution": {
     "iopub.execute_input": "2023-01-20T07:27:16.292955Z",
     "iopub.status.busy": "2023-01-20T07:27:16.292182Z",
     "iopub.status.idle": "2023-01-20T07:27:16.310127Z",
     "shell.execute_reply": "2023-01-20T07:27:16.308925Z"
    },
    "papermill": {
     "duration": 0.0262,
     "end_time": "2023-01-20T07:27:16.313170",
     "exception": false,
     "start_time": "2023-01-20T07:27:16.286970",
     "status": "completed"
    },
    "tags": []
   },
   "outputs": [
    {
     "data": {
      "text/plain": [
       "(array([[3.35600000e+04, 1.15606940e-02],\n",
       "        [1.85430000e+04, 1.07410675e-01],\n",
       "        [2.31440000e+04, 9.12408760e-02],\n",
       "        ...,\n",
       "        [3.03310000e+04, 2.98507460e-02],\n",
       "        [1.62150000e+04, 1.75118570e-02],\n",
       "        [3.33580000e+04, 1.11065410e-02]]),\n",
       " 0       0.6552\n",
       " 1       0.5246\n",
       " 2       0.4030\n",
       " 3       0.5472\n",
       " 4       0.8166\n",
       "          ...  \n",
       " 2359    0.5311\n",
       " 2360    0.5371\n",
       " 2361    0.3677\n",
       " 2362    0.5541\n",
       " 2363    0.5871\n",
       " Name: Completion_rate, Length: 2364, dtype: float64)"
      ]
     },
     "execution_count": 8,
     "metadata": {},
     "output_type": "execute_result"
    }
   ],
   "source": [
    "x = data[[\"Tuition_out_state\",\"Parents_middlesch\"]].values\n",
    "y = data[\"Completion_rate\"]\n",
    "x,y"
   ]
  },
  {
   "cell_type": "markdown",
   "id": "2a140c0d",
   "metadata": {
    "papermill": {
     "duration": 0.003544,
     "end_time": "2023-01-20T07:27:16.320714",
     "exception": false,
     "start_time": "2023-01-20T07:27:16.317170",
     "status": "completed"
    },
    "tags": []
   },
   "source": [
    "### Creating a simple regression model"
   ]
  },
  {
   "cell_type": "code",
   "execution_count": 9,
   "id": "cdceb45e",
   "metadata": {
    "execution": {
     "iopub.execute_input": "2023-01-20T07:27:16.330213Z",
     "iopub.status.busy": "2023-01-20T07:27:16.329767Z",
     "iopub.status.idle": "2023-01-20T07:27:17.425163Z",
     "shell.execute_reply": "2023-01-20T07:27:17.423757Z"
    },
    "papermill": {
     "duration": 1.104106,
     "end_time": "2023-01-20T07:27:17.428581",
     "exception": false,
     "start_time": "2023-01-20T07:27:16.324475",
     "status": "completed"
    },
    "tags": []
   },
   "outputs": [
    {
     "name": "stdout",
     "output_type": "stream",
     "text": [
      "0.5011633797346206\n"
     ]
    }
   ],
   "source": [
    "from sklearn.linear_model import LinearRegression\n",
    "model = LinearRegression().fit(x, y)\n",
    "r_sq = model.score(x, y)\n",
    "print(r_sq)"
   ]
  },
  {
   "cell_type": "code",
   "execution_count": 11,
   "id": "d5afbb18",
   "metadata": {
    "execution": {
     "iopub.execute_input": "2023-01-20T07:27:17.438609Z",
     "iopub.status.busy": "2023-01-20T07:27:17.438208Z",
     "iopub.status.idle": "2023-01-20T07:27:17.454851Z",
     "shell.execute_reply": "2023-01-20T07:27:17.453429Z"
    },
    "papermill": {
     "duration": 0.024607,
     "end_time": "2023-01-20T07:27:17.457532",
     "exception": false,
     "start_time": "2023-01-20T07:27:17.432925",
     "status": "completed"
    },
    "tags": []
   },
   "outputs": [
    {
     "name": "stdout",
     "output_type": "stream",
     "text": [
      "[0.66158234 0.36990167 0.44474614 ... 0.60141713 0.43996057 0.65957735]\n"
     ]
    }
   ],
   "source": [
    "test = pd.read_csv(\"train.csv\")\n",
    "x_pred = test[[\"Tuition_out_state\",\"Parents_middlesch\"]].values\n",
    "y_pred = model.predict(x_pred)\n",
    "print(y_pred)"
   ]
  },
  {
   "cell_type": "markdown",
   "id": "9d3021f0",
   "metadata": {
    "papermill": {
     "duration": 0.003733,
     "end_time": "2023-01-20T07:27:17.465259",
     "exception": false,
     "start_time": "2023-01-20T07:27:17.461526",
     "status": "completed"
    },
    "tags": []
   },
   "source": [
    "### Creating our submission"
   ]
  },
  {
   "cell_type": "code",
   "execution_count": 12,
   "id": "500837ee",
   "metadata": {
    "execution": {
     "iopub.execute_input": "2023-01-20T07:27:17.474672Z",
     "iopub.status.busy": "2023-01-20T07:27:17.474261Z",
     "iopub.status.idle": "2023-01-20T07:27:17.487722Z",
     "shell.execute_reply": "2023-01-20T07:27:17.486530Z"
    },
    "papermill": {
     "duration": 0.021045,
     "end_time": "2023-01-20T07:27:17.490251",
     "exception": false,
     "start_time": "2023-01-20T07:27:17.469206",
     "status": "completed"
    },
    "tags": []
   },
   "outputs": [
    {
     "data": {
      "text/html": [
       "<div>\n",
       "<style scoped>\n",
       "    .dataframe tbody tr th:only-of-type {\n",
       "        vertical-align: middle;\n",
       "    }\n",
       "\n",
       "    .dataframe tbody tr th {\n",
       "        vertical-align: top;\n",
       "    }\n",
       "\n",
       "    .dataframe thead th {\n",
       "        text-align: right;\n",
       "    }\n",
       "</style>\n",
       "<table border=\"1\" class=\"dataframe\">\n",
       "  <thead>\n",
       "    <tr style=\"text-align: right;\">\n",
       "      <th></th>\n",
       "      <th>Completion_rate</th>\n",
       "    </tr>\n",
       "  </thead>\n",
       "  <tbody>\n",
       "    <tr>\n",
       "      <th>0</th>\n",
       "      <td>0.661582</td>\n",
       "    </tr>\n",
       "    <tr>\n",
       "      <th>1</th>\n",
       "      <td>0.369902</td>\n",
       "    </tr>\n",
       "    <tr>\n",
       "      <th>2</th>\n",
       "      <td>0.444746</td>\n",
       "    </tr>\n",
       "    <tr>\n",
       "      <th>3</th>\n",
       "      <td>0.298886</td>\n",
       "    </tr>\n",
       "    <tr>\n",
       "      <th>4</th>\n",
       "      <td>0.824645</td>\n",
       "    </tr>\n",
       "    <tr>\n",
       "      <th>...</th>\n",
       "      <td>...</td>\n",
       "    </tr>\n",
       "    <tr>\n",
       "      <th>2359</th>\n",
       "      <td>0.535678</td>\n",
       "    </tr>\n",
       "    <tr>\n",
       "      <th>2360</th>\n",
       "      <td>0.681279</td>\n",
       "    </tr>\n",
       "    <tr>\n",
       "      <th>2361</th>\n",
       "      <td>0.601417</td>\n",
       "    </tr>\n",
       "    <tr>\n",
       "      <th>2362</th>\n",
       "      <td>0.439961</td>\n",
       "    </tr>\n",
       "    <tr>\n",
       "      <th>2363</th>\n",
       "      <td>0.659577</td>\n",
       "    </tr>\n",
       "  </tbody>\n",
       "</table>\n",
       "<p>2364 rows × 1 columns</p>\n",
       "</div>"
      ],
      "text/plain": [
       "      Completion_rate\n",
       "0            0.661582\n",
       "1            0.369902\n",
       "2            0.444746\n",
       "3            0.298886\n",
       "4            0.824645\n",
       "...               ...\n",
       "2359         0.535678\n",
       "2360         0.681279\n",
       "2361         0.601417\n",
       "2362         0.439961\n",
       "2363         0.659577\n",
       "\n",
       "[2364 rows x 1 columns]"
      ]
     },
     "execution_count": 12,
     "metadata": {},
     "output_type": "execute_result"
    }
   ],
   "source": [
    "submission = pd.DataFrame.from_dict({'Completion_rate': y_pred})\n",
    "submission"
   ]
  },
  {
   "cell_type": "code",
   "execution_count": 13,
   "id": "de1c5009",
   "metadata": {
    "execution": {
     "iopub.execute_input": "2023-01-20T07:27:17.500950Z",
     "iopub.status.busy": "2023-01-20T07:27:17.500554Z",
     "iopub.status.idle": "2023-01-20T07:27:17.512702Z",
     "shell.execute_reply": "2023-01-20T07:27:17.511640Z"
    },
    "papermill": {
     "duration": 0.020782,
     "end_time": "2023-01-20T07:27:17.515601",
     "exception": false,
     "start_time": "2023-01-20T07:27:17.494819",
     "status": "completed"
    },
    "tags": []
   },
   "outputs": [],
   "source": [
    "submission.to_csv('submission.csv', index = True, index_label = \"id\") "
   ]
  },
  {
   "cell_type": "markdown",
   "id": "0c785f85",
   "metadata": {
    "papermill": {
     "duration": 0.004056,
     "end_time": "2023-01-20T07:27:17.523996",
     "exception": false,
     "start_time": "2023-01-20T07:27:17.519940",
     "status": "completed"
    },
    "tags": []
   },
   "source": [
    "### To submit your submission\n",
    "\n",
    "On the panel on your right, select the drop down \"Submit to competition\", and submit this notebook. Ensure that your submission is named ```submission.csv```!"
   ]
  }
 ],
 "metadata": {
  "kernelspec": {
   "display_name": "Python 3.9.7 ('base')",
   "language": "python",
   "name": "python3"
  },
  "language_info": {
   "codemirror_mode": {
    "name": "ipython",
    "version": 3
   },
   "file_extension": ".py",
   "mimetype": "text/x-python",
   "name": "python",
   "nbconvert_exporter": "python",
   "pygments_lexer": "ipython3",
   "version": "3.9.7"
  },
  "papermill": {
   "default_parameters": {},
   "duration": 12.088403,
   "end_time": "2023-01-20T07:27:18.349601",
   "environment_variables": {},
   "exception": null,
   "input_path": "__notebook__.ipynb",
   "output_path": "__notebook__.ipynb",
   "parameters": {},
   "start_time": "2023-01-20T07:27:06.261198",
   "version": "2.3.4"
  },
  "vscode": {
   "interpreter": {
    "hash": "cd78fef2128015050713e82ca51c6520b11aee7c9ee8df750520bbbc7384cbaa"
   }
  }
 },
 "nbformat": 4,
 "nbformat_minor": 5
}
