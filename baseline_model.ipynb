{
 "cells": [
  {
   "cell_type": "code",
   "execution_count": 1,
   "id": "e6971d2f",
   "metadata": {
    "_cell_guid": "b1076dfc-b9ad-4769-8c92-a6c4dae69d19",
    "_uuid": "8f2839f25d086af736a60e9eeb907d3b93b6e0e5",
    "execution": {
     "iopub.execute_input": "2023-01-20T07:27:16.183509Z",
     "iopub.status.busy": "2023-01-20T07:27:16.182868Z",
     "iopub.status.idle": "2023-01-20T07:27:16.199479Z",
     "shell.execute_reply": "2023-01-20T07:27:16.198167Z"
    },
    "papermill": {
     "duration": 0.025993,
     "end_time": "2023-01-20T07:27:16.202403",
     "exception": false,
     "start_time": "2023-01-20T07:27:16.176410",
     "status": "completed"
    },
    "tags": []
   },
   "outputs": [
    {
     "name": "stdout",
     "output_type": "stream",
     "text": [
      "/kaggle/input/us-college-completion-rate-analysis/x_test.csv\n",
      "/kaggle/input/us-college-completion-rate-analysis/train.csv\n"
     ]
    }
   ],
   "source": [
    "# This Python 3 environment comes with many helpful analytics libraries installed\n",
    "# It is defined by the kaggle/python Docker image: https://github.com/kaggle/docker-python\n",
    "# For example, here's several helpful packages to load\n",
    "\n",
    "import numpy as np # linear algebra\n",
    "import pandas as pd # data processing, CSV file I/O (e.g. pd.read_csv)\n",
    "\n",
    "# Input data files are available in the read-only \"../input/\" directory\n",
    "# For example, running this (by clicking run or pressing Shift+Enter) will list all files under the input directory\n",
    "\n",
    "import os\n",
    "for dirname, _, filenames in os.walk('/kaggle/input'):\n",
    "    for filename in filenames:\n",
    "        print(os.path.join(dirname, filename))\n",
    "\n",
    "# You can write up to 20GB to the current directory (/kaggle/working/) that gets preserved as output when you create a version using \"Save & Run All\" \n",
    "# You can also write temporary files to /kaggle/temp/, but they won't be saved outside of the current session"
   ]
  },
  {
   "cell_type": "markdown",
   "id": "74f5fee6",
   "metadata": {
    "papermill": {
     "duration": 0.003337,
     "end_time": "2023-01-20T07:27:16.210156",
     "exception": false,
     "start_time": "2023-01-20T07:27:16.206819",
     "status": "completed"
    },
    "tags": []
   },
   "source": [
    "### Importing the data"
   ]
  },
  {
   "cell_type": "code",
   "execution_count": 2,
   "id": "1fc05791",
   "metadata": {
    "execution": {
     "iopub.execute_input": "2023-01-20T07:27:16.219102Z",
     "iopub.status.busy": "2023-01-20T07:27:16.218373Z",
     "iopub.status.idle": "2023-01-20T07:27:16.280478Z",
     "shell.execute_reply": "2023-01-20T07:27:16.279563Z"
    },
    "papermill": {
     "duration": 0.069361,
     "end_time": "2023-01-20T07:27:16.282879",
     "exception": false,
     "start_time": "2023-01-20T07:27:16.213518",
     "status": "completed"
    },
    "tags": []
   },
   "outputs": [
    {
     "data": {
      "text/html": [
       "<div>\n",
       "<style scoped>\n",
       "    .dataframe tbody tr th:only-of-type {\n",
       "        vertical-align: middle;\n",
       "    }\n",
       "\n",
       "    .dataframe tbody tr th {\n",
       "        vertical-align: top;\n",
       "    }\n",
       "\n",
       "    .dataframe thead th {\n",
       "        text-align: right;\n",
       "    }\n",
       "</style>\n",
       "<table border=\"1\" class=\"dataframe\">\n",
       "  <thead>\n",
       "    <tr style=\"text-align: right;\">\n",
       "      <th></th>\n",
       "      <th>Unnamed: 0</th>\n",
       "      <th>Completion_rate</th>\n",
       "      <th>Tuition_in_state</th>\n",
       "      <th>Tuition_out_state</th>\n",
       "      <th>Faculty_salary</th>\n",
       "      <th>Pell_grant_rate</th>\n",
       "      <th>SAT_average</th>\n",
       "      <th>ACT_50thPercentile</th>\n",
       "      <th>pct_White</th>\n",
       "      <th>pct_Black</th>\n",
       "      <th>pct_Hispanic</th>\n",
       "      <th>pct_Asian</th>\n",
       "      <th>Parents_middlesch</th>\n",
       "      <th>Parents_highsch</th>\n",
       "      <th>Parents_college</th>\n",
       "    </tr>\n",
       "  </thead>\n",
       "  <tbody>\n",
       "    <tr>\n",
       "      <th>0</th>\n",
       "      <td>0</td>\n",
       "      <td>0.6552</td>\n",
       "      <td>33560.0</td>\n",
       "      <td>33560.0</td>\n",
       "      <td>4285.0</td>\n",
       "      <td>0.2531</td>\n",
       "      <td>1029.0</td>\n",
       "      <td>21.0</td>\n",
       "      <td>0.3771</td>\n",
       "      <td>0.0612</td>\n",
       "      <td>0.0590</td>\n",
       "      <td>0.1345</td>\n",
       "      <td>0.011561</td>\n",
       "      <td>0.226397</td>\n",
       "      <td>0.762042</td>\n",
       "    </tr>\n",
       "    <tr>\n",
       "      <th>1</th>\n",
       "      <td>1</td>\n",
       "      <td>0.5246</td>\n",
       "      <td>7383.0</td>\n",
       "      <td>18543.0</td>\n",
       "      <td>9148.0</td>\n",
       "      <td>0.4752</td>\n",
       "      <td>963.0</td>\n",
       "      <td>21.0</td>\n",
       "      <td>0.2866</td>\n",
       "      <td>0.0331</td>\n",
       "      <td>0.4212</td>\n",
       "      <td>0.1011</td>\n",
       "      <td>0.107411</td>\n",
       "      <td>0.375165</td>\n",
       "      <td>0.517424</td>\n",
       "    </tr>\n",
       "    <tr>\n",
       "      <th>2</th>\n",
       "      <td>2</td>\n",
       "      <td>0.4030</td>\n",
       "      <td>23144.0</td>\n",
       "      <td>23144.0</td>\n",
       "      <td>7232.0</td>\n",
       "      <td>0.4668</td>\n",
       "      <td>984.0</td>\n",
       "      <td>21.0</td>\n",
       "      <td>0.3085</td>\n",
       "      <td>0.1426</td>\n",
       "      <td>0.2309</td>\n",
       "      <td>0.0149</td>\n",
       "      <td>0.091241</td>\n",
       "      <td>0.361314</td>\n",
       "      <td>0.547445</td>\n",
       "    </tr>\n",
       "    <tr>\n",
       "      <th>3</th>\n",
       "      <td>3</td>\n",
       "      <td>0.5472</td>\n",
       "      <td>6610.0</td>\n",
       "      <td>17770.0</td>\n",
       "      <td>9284.0</td>\n",
       "      <td>0.6369</td>\n",
       "      <td>877.0</td>\n",
       "      <td>18.0</td>\n",
       "      <td>0.1272</td>\n",
       "      <td>0.0572</td>\n",
       "      <td>0.6282</td>\n",
       "      <td>0.0557</td>\n",
       "      <td>0.163236</td>\n",
       "      <td>0.433621</td>\n",
       "      <td>0.403142</td>\n",
       "    </tr>\n",
       "    <tr>\n",
       "      <th>4</th>\n",
       "      <td>4</td>\n",
       "      <td>0.8166</td>\n",
       "      <td>47004.0</td>\n",
       "      <td>47004.0</td>\n",
       "      <td>11984.0</td>\n",
       "      <td>0.1337</td>\n",
       "      <td>1323.0</td>\n",
       "      <td>30.0</td>\n",
       "      <td>0.4251</td>\n",
       "      <td>0.0786</td>\n",
       "      <td>0.2268</td>\n",
       "      <td>0.0549</td>\n",
       "      <td>0.014868</td>\n",
       "      <td>0.186091</td>\n",
       "      <td>0.799041</td>\n",
       "    </tr>\n",
       "    <tr>\n",
       "      <th>...</th>\n",
       "      <td>...</td>\n",
       "      <td>...</td>\n",
       "      <td>...</td>\n",
       "      <td>...</td>\n",
       "      <td>...</td>\n",
       "      <td>...</td>\n",
       "      <td>...</td>\n",
       "      <td>...</td>\n",
       "      <td>...</td>\n",
       "      <td>...</td>\n",
       "      <td>...</td>\n",
       "      <td>...</td>\n",
       "      <td>...</td>\n",
       "      <td>...</td>\n",
       "      <td>...</td>\n",
       "    </tr>\n",
       "    <tr>\n",
       "      <th>2359</th>\n",
       "      <td>2359</td>\n",
       "      <td>0.5311</td>\n",
       "      <td>24090.0</td>\n",
       "      <td>24090.0</td>\n",
       "      <td>6705.0</td>\n",
       "      <td>0.3402</td>\n",
       "      <td>949.0</td>\n",
       "      <td>20.0</td>\n",
       "      <td>0.6830</td>\n",
       "      <td>0.0544</td>\n",
       "      <td>0.0385</td>\n",
       "      <td>0.0225</td>\n",
       "      <td>0.019266</td>\n",
       "      <td>0.439450</td>\n",
       "      <td>0.541284</td>\n",
       "    </tr>\n",
       "    <tr>\n",
       "      <th>2360</th>\n",
       "      <td>2360</td>\n",
       "      <td>0.5371</td>\n",
       "      <td>36660.0</td>\n",
       "      <td>36660.0</td>\n",
       "      <td>6340.0</td>\n",
       "      <td>0.4075</td>\n",
       "      <td>1033.0</td>\n",
       "      <td>23.0</td>\n",
       "      <td>0.6215</td>\n",
       "      <td>0.1582</td>\n",
       "      <td>0.0883</td>\n",
       "      <td>0.0257</td>\n",
       "      <td>0.028593</td>\n",
       "      <td>0.404816</td>\n",
       "      <td>0.566591</td>\n",
       "    </tr>\n",
       "    <tr>\n",
       "      <th>2361</th>\n",
       "      <td>2361</td>\n",
       "      <td>0.3677</td>\n",
       "      <td>30331.0</td>\n",
       "      <td>30331.0</td>\n",
       "      <td>6689.0</td>\n",
       "      <td>0.5791</td>\n",
       "      <td>1009.0</td>\n",
       "      <td>22.0</td>\n",
       "      <td>0.5842</td>\n",
       "      <td>0.2277</td>\n",
       "      <td>0.0569</td>\n",
       "      <td>0.0221</td>\n",
       "      <td>0.029851</td>\n",
       "      <td>0.370421</td>\n",
       "      <td>0.599729</td>\n",
       "    </tr>\n",
       "    <tr>\n",
       "      <th>2362</th>\n",
       "      <td>2362</td>\n",
       "      <td>0.5541</td>\n",
       "      <td>5055.0</td>\n",
       "      <td>16215.0</td>\n",
       "      <td>9312.0</td>\n",
       "      <td>0.2151</td>\n",
       "      <td>1102.0</td>\n",
       "      <td>24.0</td>\n",
       "      <td>0.7347</td>\n",
       "      <td>0.0113</td>\n",
       "      <td>0.0718</td>\n",
       "      <td>0.0117</td>\n",
       "      <td>0.017512</td>\n",
       "      <td>0.259759</td>\n",
       "      <td>0.722729</td>\n",
       "    </tr>\n",
       "    <tr>\n",
       "      <th>2363</th>\n",
       "      <td>2363</td>\n",
       "      <td>0.5871</td>\n",
       "      <td>33358.0</td>\n",
       "      <td>33358.0</td>\n",
       "      <td>8178.0</td>\n",
       "      <td>0.2640</td>\n",
       "      <td>1053.0</td>\n",
       "      <td>23.0</td>\n",
       "      <td>0.5974</td>\n",
       "      <td>0.1482</td>\n",
       "      <td>0.0933</td>\n",
       "      <td>0.0304</td>\n",
       "      <td>0.011107</td>\n",
       "      <td>0.249280</td>\n",
       "      <td>0.739613</td>\n",
       "    </tr>\n",
       "  </tbody>\n",
       "</table>\n",
       "<p>2364 rows × 15 columns</p>\n",
       "</div>"
      ],
      "text/plain": [
       "      Unnamed: 0  Completion_rate  Tuition_in_state  Tuition_out_state  \\\n",
       "0              0           0.6552           33560.0            33560.0   \n",
       "1              1           0.5246            7383.0            18543.0   \n",
       "2              2           0.4030           23144.0            23144.0   \n",
       "3              3           0.5472            6610.0            17770.0   \n",
       "4              4           0.8166           47004.0            47004.0   \n",
       "...          ...              ...               ...                ...   \n",
       "2359        2359           0.5311           24090.0            24090.0   \n",
       "2360        2360           0.5371           36660.0            36660.0   \n",
       "2361        2361           0.3677           30331.0            30331.0   \n",
       "2362        2362           0.5541            5055.0            16215.0   \n",
       "2363        2363           0.5871           33358.0            33358.0   \n",
       "\n",
       "      Faculty_salary  Pell_grant_rate  SAT_average  ACT_50thPercentile  \\\n",
       "0             4285.0           0.2531       1029.0                21.0   \n",
       "1             9148.0           0.4752        963.0                21.0   \n",
       "2             7232.0           0.4668        984.0                21.0   \n",
       "3             9284.0           0.6369        877.0                18.0   \n",
       "4            11984.0           0.1337       1323.0                30.0   \n",
       "...              ...              ...          ...                 ...   \n",
       "2359          6705.0           0.3402        949.0                20.0   \n",
       "2360          6340.0           0.4075       1033.0                23.0   \n",
       "2361          6689.0           0.5791       1009.0                22.0   \n",
       "2362          9312.0           0.2151       1102.0                24.0   \n",
       "2363          8178.0           0.2640       1053.0                23.0   \n",
       "\n",
       "      pct_White  pct_Black  pct_Hispanic  pct_Asian  Parents_middlesch  \\\n",
       "0        0.3771     0.0612        0.0590     0.1345           0.011561   \n",
       "1        0.2866     0.0331        0.4212     0.1011           0.107411   \n",
       "2        0.3085     0.1426        0.2309     0.0149           0.091241   \n",
       "3        0.1272     0.0572        0.6282     0.0557           0.163236   \n",
       "4        0.4251     0.0786        0.2268     0.0549           0.014868   \n",
       "...         ...        ...           ...        ...                ...   \n",
       "2359     0.6830     0.0544        0.0385     0.0225           0.019266   \n",
       "2360     0.6215     0.1582        0.0883     0.0257           0.028593   \n",
       "2361     0.5842     0.2277        0.0569     0.0221           0.029851   \n",
       "2362     0.7347     0.0113        0.0718     0.0117           0.017512   \n",
       "2363     0.5974     0.1482        0.0933     0.0304           0.011107   \n",
       "\n",
       "      Parents_highsch  Parents_college  \n",
       "0            0.226397         0.762042  \n",
       "1            0.375165         0.517424  \n",
       "2            0.361314         0.547445  \n",
       "3            0.433621         0.403142  \n",
       "4            0.186091         0.799041  \n",
       "...               ...              ...  \n",
       "2359         0.439450         0.541284  \n",
       "2360         0.404816         0.566591  \n",
       "2361         0.370421         0.599729  \n",
       "2362         0.259759         0.722729  \n",
       "2363         0.249280         0.739613  \n",
       "\n",
       "[2364 rows x 15 columns]"
      ]
     },
     "execution_count": 2,
     "metadata": {},
     "output_type": "execute_result"
    }
   ],
   "source": [
    "data = pd.read_csv(\"/kaggle/input/us-college-completion-rate-analysis/train.csv\")\n",
    "data"
   ]
  },
  {
   "cell_type": "code",
   "execution_count": 3,
   "id": "fb296afb",
   "metadata": {
    "execution": {
     "iopub.execute_input": "2023-01-20T07:27:16.292955Z",
     "iopub.status.busy": "2023-01-20T07:27:16.292182Z",
     "iopub.status.idle": "2023-01-20T07:27:16.310127Z",
     "shell.execute_reply": "2023-01-20T07:27:16.308925Z"
    },
    "papermill": {
     "duration": 0.0262,
     "end_time": "2023-01-20T07:27:16.313170",
     "exception": false,
     "start_time": "2023-01-20T07:27:16.286970",
     "status": "completed"
    },
    "tags": []
   },
   "outputs": [
    {
     "data": {
      "text/plain": [
       "(array([[3.35600000e+04, 1.15606936e-02],\n",
       "        [1.85430000e+04, 1.07410675e-01],\n",
       "        [2.31440000e+04, 9.12408759e-02],\n",
       "        ...,\n",
       "        [3.03310000e+04, 2.98507463e-02],\n",
       "        [1.62150000e+04, 1.75118570e-02],\n",
       "        [3.33580000e+04, 1.11065405e-02]]),\n",
       " 0       0.6552\n",
       " 1       0.5246\n",
       " 2       0.4030\n",
       " 3       0.5472\n",
       " 4       0.8166\n",
       "          ...  \n",
       " 2359    0.5311\n",
       " 2360    0.5371\n",
       " 2361    0.3677\n",
       " 2362    0.5541\n",
       " 2363    0.5871\n",
       " Name: Completion_rate, Length: 2364, dtype: float64)"
      ]
     },
     "execution_count": 3,
     "metadata": {},
     "output_type": "execute_result"
    }
   ],
   "source": [
    "x = data[[\"Tuition_out_state\",\"Parents_middlesch\"]].values\n",
    "y = data[\"Completion_rate\"]\n",
    "x,y"
   ]
  },
  {
   "cell_type": "markdown",
   "id": "2a140c0d",
   "metadata": {
    "papermill": {
     "duration": 0.003544,
     "end_time": "2023-01-20T07:27:16.320714",
     "exception": false,
     "start_time": "2023-01-20T07:27:16.317170",
     "status": "completed"
    },
    "tags": []
   },
   "source": [
    "### Creating a simple regression model"
   ]
  },
  {
   "cell_type": "code",
   "execution_count": 4,
   "id": "cdceb45e",
   "metadata": {
    "execution": {
     "iopub.execute_input": "2023-01-20T07:27:16.330213Z",
     "iopub.status.busy": "2023-01-20T07:27:16.329767Z",
     "iopub.status.idle": "2023-01-20T07:27:17.425163Z",
     "shell.execute_reply": "2023-01-20T07:27:17.423757Z"
    },
    "papermill": {
     "duration": 1.104106,
     "end_time": "2023-01-20T07:27:17.428581",
     "exception": false,
     "start_time": "2023-01-20T07:27:16.324475",
     "status": "completed"
    },
    "tags": []
   },
   "outputs": [
    {
     "name": "stdout",
     "output_type": "stream",
     "text": [
      "0.501163379752315\n"
     ]
    }
   ],
   "source": [
    "from sklearn.linear_model import LinearRegression\n",
    "model = LinearRegression().fit(x, y)\n",
    "r_sq = model.score(x, y)\n",
    "print(r_sq)"
   ]
  },
  {
   "cell_type": "code",
   "execution_count": 5,
   "id": "d5afbb18",
   "metadata": {
    "execution": {
     "iopub.execute_input": "2023-01-20T07:27:17.438609Z",
     "iopub.status.busy": "2023-01-20T07:27:17.438208Z",
     "iopub.status.idle": "2023-01-20T07:27:17.454851Z",
     "shell.execute_reply": "2023-01-20T07:27:17.453429Z"
    },
    "papermill": {
     "duration": 0.024607,
     "end_time": "2023-01-20T07:27:17.457532",
     "exception": false,
     "start_time": "2023-01-20T07:27:17.432925",
     "status": "completed"
    },
    "tags": []
   },
   "outputs": [
    {
     "name": "stdout",
     "output_type": "stream",
     "text": [
      "[0.55951869 0.5929969  0.44038014 ... 0.68587586 0.4640361  0.71071098]\n"
     ]
    }
   ],
   "source": [
    "test = pd.read_csv(\"/kaggle/input/us-college-completion-rate-analysis/x_test.csv\")\n",
    "x_pred = test[[\"Tuition_out_state\",\"Parents_middlesch\"]].values\n",
    "y_pred = model.predict(x_pred)\n",
    "print(y_pred)"
   ]
  },
  {
   "cell_type": "markdown",
   "id": "9d3021f0",
   "metadata": {
    "papermill": {
     "duration": 0.003733,
     "end_time": "2023-01-20T07:27:17.465259",
     "exception": false,
     "start_time": "2023-01-20T07:27:17.461526",
     "status": "completed"
    },
    "tags": []
   },
   "source": [
    "### Creating our submission"
   ]
  },
  {
   "cell_type": "code",
   "execution_count": 6,
   "id": "500837ee",
   "metadata": {
    "execution": {
     "iopub.execute_input": "2023-01-20T07:27:17.474672Z",
     "iopub.status.busy": "2023-01-20T07:27:17.474261Z",
     "iopub.status.idle": "2023-01-20T07:27:17.487722Z",
     "shell.execute_reply": "2023-01-20T07:27:17.486530Z"
    },
    "papermill": {
     "duration": 0.021045,
     "end_time": "2023-01-20T07:27:17.490251",
     "exception": false,
     "start_time": "2023-01-20T07:27:17.469206",
     "status": "completed"
    },
    "tags": []
   },
   "outputs": [
    {
     "data": {
      "text/html": [
       "<div>\n",
       "<style scoped>\n",
       "    .dataframe tbody tr th:only-of-type {\n",
       "        vertical-align: middle;\n",
       "    }\n",
       "\n",
       "    .dataframe tbody tr th {\n",
       "        vertical-align: top;\n",
       "    }\n",
       "\n",
       "    .dataframe thead th {\n",
       "        text-align: right;\n",
       "    }\n",
       "</style>\n",
       "<table border=\"1\" class=\"dataframe\">\n",
       "  <thead>\n",
       "    <tr style=\"text-align: right;\">\n",
       "      <th></th>\n",
       "      <th>Completion_rate</th>\n",
       "    </tr>\n",
       "  </thead>\n",
       "  <tbody>\n",
       "    <tr>\n",
       "      <th>0</th>\n",
       "      <td>0.559519</td>\n",
       "    </tr>\n",
       "    <tr>\n",
       "      <th>1</th>\n",
       "      <td>0.592997</td>\n",
       "    </tr>\n",
       "    <tr>\n",
       "      <th>2</th>\n",
       "      <td>0.440380</td>\n",
       "    </tr>\n",
       "    <tr>\n",
       "      <th>3</th>\n",
       "      <td>0.513952</td>\n",
       "    </tr>\n",
       "    <tr>\n",
       "      <th>4</th>\n",
       "      <td>0.463205</td>\n",
       "    </tr>\n",
       "    <tr>\n",
       "      <th>...</th>\n",
       "      <td>...</td>\n",
       "    </tr>\n",
       "    <tr>\n",
       "      <th>1160</th>\n",
       "      <td>0.549541</td>\n",
       "    </tr>\n",
       "    <tr>\n",
       "      <th>1161</th>\n",
       "      <td>0.435548</td>\n",
       "    </tr>\n",
       "    <tr>\n",
       "      <th>1162</th>\n",
       "      <td>0.685876</td>\n",
       "    </tr>\n",
       "    <tr>\n",
       "      <th>1163</th>\n",
       "      <td>0.464036</td>\n",
       "    </tr>\n",
       "    <tr>\n",
       "      <th>1164</th>\n",
       "      <td>0.710711</td>\n",
       "    </tr>\n",
       "  </tbody>\n",
       "</table>\n",
       "<p>1165 rows × 1 columns</p>\n",
       "</div>"
      ],
      "text/plain": [
       "      Completion_rate\n",
       "0            0.559519\n",
       "1            0.592997\n",
       "2            0.440380\n",
       "3            0.513952\n",
       "4            0.463205\n",
       "...               ...\n",
       "1160         0.549541\n",
       "1161         0.435548\n",
       "1162         0.685876\n",
       "1163         0.464036\n",
       "1164         0.710711\n",
       "\n",
       "[1165 rows x 1 columns]"
      ]
     },
     "execution_count": 6,
     "metadata": {},
     "output_type": "execute_result"
    }
   ],
   "source": [
    "submission = pd.DataFrame.from_dict({'Completion_rate': y_pred})\n",
    "submission"
   ]
  },
  {
   "cell_type": "code",
   "execution_count": 7,
   "id": "de1c5009",
   "metadata": {
    "execution": {
     "iopub.execute_input": "2023-01-20T07:27:17.500950Z",
     "iopub.status.busy": "2023-01-20T07:27:17.500554Z",
     "iopub.status.idle": "2023-01-20T07:27:17.512702Z",
     "shell.execute_reply": "2023-01-20T07:27:17.511640Z"
    },
    "papermill": {
     "duration": 0.020782,
     "end_time": "2023-01-20T07:27:17.515601",
     "exception": false,
     "start_time": "2023-01-20T07:27:17.494819",
     "status": "completed"
    },
    "tags": []
   },
   "outputs": [],
   "source": [
    "submission.to_csv('submission.csv', index = True, index_label = \"id\") "
   ]
  },
  {
   "cell_type": "markdown",
   "id": "0c785f85",
   "metadata": {
    "papermill": {
     "duration": 0.004056,
     "end_time": "2023-01-20T07:27:17.523996",
     "exception": false,
     "start_time": "2023-01-20T07:27:17.519940",
     "status": "completed"
    },
    "tags": []
   },
   "source": [
    "### To submit your submission\n",
    "\n",
    "On the panel on your right, select the drop down \"Submit to competition\", and submit this notebook. Ensure that your submission is named ```submission.csv```!"
   ]
  }
 ],
 "metadata": {
  "kernelspec": {
   "display_name": "Python 3",
   "language": "python",
   "name": "python3"
  },
  "language_info": {
   "codemirror_mode": {
    "name": "ipython",
    "version": 3
   },
   "file_extension": ".py",
   "mimetype": "text/x-python",
   "name": "python",
   "nbconvert_exporter": "python",
   "pygments_lexer": "ipython3",
   "version": "3.7.12"
  },
  "papermill": {
   "default_parameters": {},
   "duration": 12.088403,
   "end_time": "2023-01-20T07:27:18.349601",
   "environment_variables": {},
   "exception": null,
   "input_path": "__notebook__.ipynb",
   "output_path": "__notebook__.ipynb",
   "parameters": {},
   "start_time": "2023-01-20T07:27:06.261198",
   "version": "2.3.4"
  }
 },
 "nbformat": 4,
 "nbformat_minor": 5
}
